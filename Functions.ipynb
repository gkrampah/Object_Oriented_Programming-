{
 "cells": [
  {
   "cell_type": "markdown",
   "id": "337cc22a",
   "metadata": {},
   "source": [
    "## Using python assert statements\n",
    "\n",
    "Assertions are meant to be internal self-checks for your program by declaring some conditions as impossible in your code. If your program is bug-free, these conditions will never occur. But if they do occur, the program will crash with an assertion error telling you exactly which “impossible” condition was triggered. Assert statement is a debugging aid, not a mechanism for handling run-time errors"
   ]
  },
  {
   "cell_type": "code",
   "execution_count": 3,
   "id": "d467bc81",
   "metadata": {},
   "outputs": [
    {
     "name": "stdout",
     "output_type": "stream",
     "text": [
      "Average of mark2: 78.0\n"
     ]
    },
    {
     "ename": "AssertionError",
     "evalue": "List is empty.",
     "output_type": "error",
     "traceback": [
      "\u001b[0;31m---------------------------------------------------------------------------\u001b[0m",
      "\u001b[0;31mAssertionError\u001b[0m                            Traceback (most recent call last)",
      "Input \u001b[0;32mIn [3]\u001b[0m, in \u001b[0;36m<cell line: 9>\u001b[0;34m()\u001b[0m\n\u001b[1;32m      6\u001b[0m \u001b[38;5;28mprint\u001b[39m(\u001b[38;5;124m\"\u001b[39m\u001b[38;5;124mAverage of mark2:\u001b[39m\u001b[38;5;124m\"\u001b[39m,avg(mark2))\n\u001b[1;32m      8\u001b[0m mark1 \u001b[38;5;241m=\u001b[39m []\n\u001b[0;32m----> 9\u001b[0m \u001b[38;5;28mprint\u001b[39m(\u001b[38;5;124m\"\u001b[39m\u001b[38;5;124mAverage of mark1:\u001b[39m\u001b[38;5;124m\"\u001b[39m,\u001b[43mavg\u001b[49m\u001b[43m(\u001b[49m\u001b[43mmark1\u001b[49m\u001b[43m)\u001b[49m)\n",
      "Input \u001b[0;32mIn [3]\u001b[0m, in \u001b[0;36mavg\u001b[0;34m(marks)\u001b[0m\n\u001b[1;32m      1\u001b[0m \u001b[38;5;28;01mdef\u001b[39;00m \u001b[38;5;21mavg\u001b[39m(marks):\n\u001b[0;32m----> 2\u001b[0m     \u001b[38;5;28;01massert\u001b[39;00m \u001b[38;5;28mlen\u001b[39m(marks) \u001b[38;5;241m!=\u001b[39m \u001b[38;5;241m0\u001b[39m ,\u001b[38;5;124m\"\u001b[39m\u001b[38;5;124mList is empty.\u001b[39m\u001b[38;5;124m\"\u001b[39m\n\u001b[1;32m      3\u001b[0m     \u001b[38;5;28;01mreturn\u001b[39;00m \u001b[38;5;28msum\u001b[39m(marks)\u001b[38;5;241m/\u001b[39m\u001b[38;5;28mlen\u001b[39m(marks)\n",
      "\u001b[0;31mAssertionError\u001b[0m: List is empty."
     ]
    }
   ],
   "source": [
    "def avg(marks):\n",
    "    assert len(marks) != 0 ,\"List is empty.\"\n",
    "    return sum(marks)/len(marks)\n",
    "\n",
    "mark2 = [55,88,78,90,79]\n",
    "print(\"Average of mark2:\",avg(mark2))\n",
    "\n",
    "mark1 = []\n",
    "print(\"Average of mark1:\",avg(mark1))"
   ]
  },
  {
   "cell_type": "markdown",
   "id": "cbe2ba8b",
   "metadata": {},
   "source": [
    "* Dont use assert to validate data as it can be disabled in the Python interpreter making it a null-op"
   ]
  },
  {
   "cell_type": "code",
   "execution_count": 4,
   "id": "7c38eb39",
   "metadata": {},
   "outputs": [],
   "source": [
    "#Don't do this\n",
    "def delete_product(prod_id, user):\n",
    "    assert user.is_admin(), 'Must be admin'\n",
    "    assert store.has_product(prod_id), 'Unknown product'\n",
    "    store.get_product(prod_id).delete()"
   ]
  },
  {
   "cell_type": "code",
   "execution_count": 5,
   "id": "ed92a1ce",
   "metadata": {},
   "outputs": [],
   "source": [
    "#Do do this instead\n",
    "def delete_product(product_id, user):\n",
    "    if not user.is_admin():\n",
    "        raise AuthError('Must be admin to delete')\n",
    "    if not store.has_product(product_id):\n",
    "        raise ValueError('Unknown product id')\n",
    "    store.get_product(product_id).delete()"
   ]
  },
  {
   "cell_type": "code",
   "execution_count": 8,
   "id": "ef160035",
   "metadata": {},
   "outputs": [
    {
     "name": "stderr",
     "output_type": "stream",
     "text": [
      "<>:1: SyntaxWarning: assertion is always true, perhaps remove parentheses?\n",
      "<>:1: SyntaxWarning: assertion is always true, perhaps remove parentheses?\n",
      "/tmp/ipykernel_46669/3929615136.py:1: SyntaxWarning: assertion is always true, perhaps remove parentheses?\n",
      "  assert(1 == 2, 'This should fail')\n"
     ]
    }
   ],
   "source": [
    "assert(1 == 2, 'This should fail') #Dont use tuples wit assert statements"
   ]
  },
  {
   "cell_type": "code",
   "execution_count": null,
   "id": "51aaf868",
   "metadata": {},
   "outputs": [],
   "source": []
  },
  {
   "cell_type": "markdown",
   "id": "4c25ef23",
   "metadata": {},
   "source": [
    "# Function\n",
    "Functions are ﬁrst-class objects in python. They can be assigned to variables, stored in data structures, passed as arguments to other functions, and even returned as values from other functions. Just like everything else in python, functions are objects and arent any special. \"def\" is used to define a functio"
   ]
  },
  {
   "cell_type": "code",
   "execution_count": 1,
   "id": "db59f257",
   "metadata": {},
   "outputs": [
    {
     "name": "stdout",
     "output_type": "stream",
     "text": [
      "4\n",
      "add_nos\n",
      "[<method 'lower' of 'str' objects>, <method 'capitalize' of 'str' objects>]\n",
      "<method 'lower' of 'str' objects> python\n",
      "<method 'capitalize' of 'str' objects> Python\n",
      "9\n"
     ]
    }
   ],
   "source": [
    "def add_nos(x,y):\n",
    "    return x+y\n",
    "\n",
    "c = add_nos #this just a fn assigned to a variable c. this function isnt called yet\n",
    "print(c(1,3)) #fn is called\n",
    "\n",
    "#Python attaches a string identiﬁer to every function at creation time for debugging purposes:\n",
    "print(c.__name__)\n",
    "\n",
    "#functions can be stored in a list\n",
    "funcs = [str.lower, str.capitalize]\n",
    "print(funcs)\n",
    "for x in funcs:\n",
    "    print(x, x('python'))\n",
    "    \n",
    "    \n",
    "funcs[0]('Dinner')\n",
    "\n",
    "#functions can be used as argument to other functions\n",
    "def print_out(func):\n",
    "    print(func(4,5))\n",
    "    \n",
    "print_out(c) #this is a higher-order function"
   ]
  },
  {
   "cell_type": "code",
   "execution_count": 2,
   "id": "a8807ff0",
   "metadata": {},
   "outputs": [
    {
     "name": "stdout",
     "output_type": "stream",
     "text": [
      "<function get_speak_func.<locals>.whisper at 0x7f83061df950>\n"
     ]
    }
   ],
   "source": [
    "#Python allows functions to be deﬁned inside other functions. These are often called nested functions or inner functions .\n",
    "\n",
    "def get_speak_func(volume):\n",
    "    def whisper(text):\n",
    "        pass\n",
    "    def yell(text):\n",
    "        pass\n",
    "    if volume > 0.5:\n",
    "        return yell\n",
    "    else:\n",
    "        return whisper\n",
    "    \n",
    "    \n",
    "print(get_speak_func(0.4))"
   ]
  },
  {
   "cell_type": "code",
   "execution_count": null,
   "id": "863c053a",
   "metadata": {},
   "outputs": [],
   "source": []
  }
 ],
 "metadata": {
  "kernelspec": {
   "display_name": "Python 3 (ipykernel)",
   "language": "python",
   "name": "python3"
  },
  "language_info": {
   "codemirror_mode": {
    "name": "ipython",
    "version": 3
   },
   "file_extension": ".py",
   "mimetype": "text/x-python",
   "name": "python",
   "nbconvert_exporter": "python",
   "pygments_lexer": "ipython3",
   "version": "3.9.12"
  },
  "toc": {
   "base_numbering": 1,
   "nav_menu": {},
   "number_sections": true,
   "sideBar": true,
   "skip_h1_title": false,
   "title_cell": "Table of Contents",
   "title_sidebar": "Contents",
   "toc_cell": false,
   "toc_position": {},
   "toc_section_display": true,
   "toc_window_display": false
  }
 },
 "nbformat": 4,
 "nbformat_minor": 5
}
