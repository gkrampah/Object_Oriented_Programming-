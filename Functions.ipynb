{
 "cells": [
  {
   "cell_type": "markdown",
   "id": "4c25ef23",
   "metadata": {},
   "source": [
    "# Function\n",
    "Functions are ﬁrst-class objects in python. They can be assigned to variables, stored in data structures, passed as arguments to other functions, and even returned as values from other functions. Just like everything else in python, functions are objects and arent any special. \"def\" is used to define a functio"
   ]
  },
  {
   "cell_type": "code",
   "execution_count": 1,
   "id": "db59f257",
   "metadata": {},
   "outputs": [
    {
     "name": "stdout",
     "output_type": "stream",
     "text": [
      "4\n",
      "add_nos\n",
      "[<method 'lower' of 'str' objects>, <method 'capitalize' of 'str' objects>]\n",
      "<method 'lower' of 'str' objects> python\n",
      "<method 'capitalize' of 'str' objects> Python\n",
      "9\n"
     ]
    }
   ],
   "source": [
    "def add_nos(x,y):\n",
    "    return x+y\n",
    "\n",
    "c = add_nos #this just a fn assigned to a variable c. this function isnt called yet\n",
    "print(c(1,3)) #fn is called\n",
    "\n",
    "#Python attaches a string identiﬁer to every function at creation time for debugging purposes:\n",
    "print(c.__name__)\n",
    "\n",
    "#functions can be stored in a list\n",
    "funcs = [str.lower, str.capitalize]\n",
    "print(funcs)\n",
    "for x in funcs:\n",
    "    print(x, x('python'))\n",
    "    \n",
    "    \n",
    "funcs[0]('Dinner')\n",
    "\n",
    "#functions can be used as argument to other functions\n",
    "def print_out(func):\n",
    "    print(func(4,5))\n",
    "    \n",
    "print_out(c) #this is a higher-order function"
   ]
  },
  {
   "cell_type": "code",
   "execution_count": 2,
   "id": "a8807ff0",
   "metadata": {},
   "outputs": [
    {
     "name": "stdout",
     "output_type": "stream",
     "text": [
      "<function get_speak_func.<locals>.whisper at 0x7f83061df950>\n"
     ]
    }
   ],
   "source": [
    "#Python allows functions to be deﬁned inside other functions. These are often called nested functions or inner functions .\n",
    "\n",
    "def get_speak_func(volume):\n",
    "    def whisper(text):\n",
    "        pass\n",
    "    def yell(text):\n",
    "        pass\n",
    "    if volume > 0.5:\n",
    "        return yell\n",
    "    else:\n",
    "        return whisper\n",
    "    \n",
    "    \n",
    "print(get_speak_func(0.4))"
   ]
  },
  {
   "cell_type": "code",
   "execution_count": null,
   "id": "863c053a",
   "metadata": {},
   "outputs": [],
   "source": []
  }
 ],
 "metadata": {
  "kernelspec": {
   "display_name": "Python 3 (ipykernel)",
   "language": "python",
   "name": "python3"
  },
  "language_info": {
   "codemirror_mode": {
    "name": "ipython",
    "version": 3
   },
   "file_extension": ".py",
   "mimetype": "text/x-python",
   "name": "python",
   "nbconvert_exporter": "python",
   "pygments_lexer": "ipython3",
   "version": "3.9.12"
  },
  "toc": {
   "base_numbering": 1,
   "nav_menu": {},
   "number_sections": true,
   "sideBar": true,
   "skip_h1_title": false,
   "title_cell": "Table of Contents",
   "title_sidebar": "Contents",
   "toc_cell": false,
   "toc_position": {},
   "toc_section_display": true,
   "toc_window_display": false
  }
 },
 "nbformat": 4,
 "nbformat_minor": 5
}
