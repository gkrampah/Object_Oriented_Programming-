{
 "cells": [
  {
   "cell_type": "markdown",
   "id": "117c21d1",
   "metadata": {},
   "source": [
    "Class - is basically a blueprint for creating an instance of a class \n",
    "classes allow us to create a reusable piece of code with its data(attributes) and functions (methods). An instance of a class contains variable that is unique to that instance"
   ]
  },
  {
   "cell_type": "code",
   "execution_count": 17,
   "id": "f5c302a8",
   "metadata": {},
   "outputs": [
    {
     "name": "stdout",
     "output_type": "stream",
     "text": [
      "<class 'str'>\n",
      "<class 'int'>\n"
     ]
    }
   ],
   "source": [
    "color = 'red'\n",
    "price = 5000\n",
    "\n",
    "#every data in python is an obj that has been instiated earlier by some class\n",
    "print(type(color)) #str type of class \n",
    "print(type(price)) #int type of class "
   ]
  },
  {
   "cell_type": "code",
   "execution_count": 29,
   "id": "13f5d208",
   "metadata": {},
   "outputs": [
    {
     "name": "stdout",
     "output_type": "stream",
     "text": [
      "<class '__main__.Car'>\n",
      "<class 'str'>\n"
     ]
    },
    {
     "data": {
      "text/plain": [
       "'toyotatoyota'"
      ]
     },
     "execution_count": 29,
     "metadata": {},
     "output_type": "execute_result"
    }
   ],
   "source": [
    "class Car:\n",
    "    pass\n",
    "\n",
    "#some instance of the class\n",
    "car1 = Car()\n",
    "car2 = Car()\n",
    "\n",
    "#hese are two instance of the class at different memory location\n",
    "#print(car1, car2)\n",
    "\n",
    "#give some attributes to the class \n",
    "car1.name = 'toyota'\n",
    "\n",
    "print(type(car1)) #str type of class \n",
    "print(type(car1.name)) \n",
    "\n",
    "#assign some methods. each method receives an instance of a class as first argument\n",
    "class Car:\n",
    "    def return_double_name(self, name):\n",
    "        return 2*name #concatenate\n",
    "car3 = Car()    \n",
    "car3.name = 'toyota'\n",
    "\n",
    "car3.return_double_name(car3.name)"
   ]
  },
  {
   "cell_type": "code",
   "execution_count": 27,
   "id": "af5b134e",
   "metadata": {},
   "outputs": [
    {
     "name": "stdout",
     "output_type": "stream",
     "text": [
      "this is initialise Toyota when this class is called\n",
      "this is initialise Volvo when this class is called\n",
      "This is a blue volvo car sold at $60000\n",
      "This is a blue volvo car sold at $60000\n"
     ]
    }
   ],
   "source": [
    "class Car:\n",
    "    #this is a constructor/initialise. wehn we create a method within a class, they receive an instance as a 1st argument\n",
    "    def __init__(self, color, price, manufacturer='ford'):\n",
    "        print(f'this is initialise {manufacturer.capitalize()} when this class is called')\n",
    "        self.color = color\n",
    "        self.price = price\n",
    "        self.manufacturer = manufacturer\n",
    "\n",
    "    def full_detail(self):\n",
    "        return f'This is a {self.color} {self.manufacturer} car sold at ${self.price}'\n",
    "    \n",
    "    \n",
    "car1 = Car('red', 50000, 'toyota')\n",
    "car2 = Car('blue',60000, 'volvo')\n",
    "\n",
    "print(car2.full_detail())\n",
    "\n",
    "#behind the hood this is happening, the method takes an instance as first argument\n",
    "print(Car.full_detail(car2))"
   ]
  },
  {
   "cell_type": "code",
   "execution_count": 42,
   "id": "7b66d562",
   "metadata": {},
   "outputs": [
    {
     "name": "stdout",
     "output_type": "stream",
     "text": [
      "0\n",
      "1\n",
      "0.7\n",
      "0.7\n"
     ]
    }
   ],
   "source": [
    "class Car:\n",
    "    #class attributes belongs to the class itself\n",
    "    discount = 0.7 #30% discount\n",
    "    count  = 0\n",
    "    #this is a constructor/initialise. wehn we create a method within a class, they receive an instance as a 1st argument\n",
    "    def __init__(self, color: str, price: float, manufacturer: str): #set argument type\n",
    "        #run a validation of received arg\n",
    "        \n",
    "        assert price>=0, f'{price} must be a positive number'\n",
    "        \n",
    "        #assign self object, instance attributes\n",
    "        self.color = color\n",
    "        self.price = price\n",
    "        self.manufacturer = manufacturer\n",
    "        Car.count+=1\n",
    "        \n",
    "    def full_detail(self):\n",
    "        return f'This is a {self.color} {self.manufacturer} car sold at ${self.price}'\n",
    "    \n",
    "    def cal_new_price(self):\n",
    "        # self.new_increase allows us to override the class var for each instance\n",
    "        self.price = self.price * self.discount\n",
    "print(Car.count)\n",
    "car1 = Car('red', 50000, 'toyota')\n",
    "print(Car.count)\n",
    "\n",
    "print(Car.discount)\n",
    "print(car1.discount)"
   ]
  },
  {
   "cell_type": "code",
   "execution_count": 45,
   "id": "71a7ee85",
   "metadata": {},
   "outputs": [
    {
     "name": "stdout",
     "output_type": "stream",
     "text": [
      "50000\n",
      "35000.0\n",
      "25000.0\n"
     ]
    }
   ],
   "source": [
    "\n",
    "class Car:\n",
    "    #class attributes belongs to the class itself\n",
    "    discount = 0.7 #30% discount\n",
    "    count  = 0\n",
    "    #this is a constructor/initialise. wehn we create a method within a class, they receive an instance as a 1st argument\n",
    "    def __init__(self, color: str, price: float, manufacturer: str): #set argument type\n",
    "        #run a validation of received arg\n",
    "        \n",
    "        assert price>=0, f'{price} must be a positive number'\n",
    "        \n",
    "        #assign self object, instance attributes\n",
    "        self.color = color\n",
    "        self.price = price\n",
    "        self.manufacturer = manufacturer\n",
    "        Car.count+=1\n",
    "        \n",
    "    def full_detail(self):\n",
    "        return f'This is a {self.color} {self.manufacturer} car sold at ${self.price}'\n",
    "    \n",
    "    def cal_new_price(self):\n",
    "        # self.new_increase allows us to override the class var for each instance\n",
    "        self.price = self.price * self.discount\n",
    "        \n",
    "car1 = Car('red', 50000, 'toyota')\n",
    "print(car1.price)\n",
    "car1.cal_new_price()\n",
    "print(car1.price)\n",
    "\n",
    "#find variable in the name space of both the class and its methods\n",
    "#print(car1.__dict__) #attributes of the instance\n",
    "#print(Car.__dict__) #attributes of the class\n",
    "\n",
    "#override the class var for car1 and includes this varible in its name space\n",
    "car2 = Car('red', 50000, 'toyota')\n",
    "car2.discount = .5\n",
    "car2.cal_new_price()\n",
    "print(car2.price)\n",
    "\n",
    "#print(car1.__dict__)\n",
    "#print(Car.__dict__)"
   ]
  },
  {
   "cell_type": "code",
   "execution_count": 49,
   "id": "de0af2f5",
   "metadata": {},
   "outputs": [
    {
     "name": "stdout",
     "output_type": "stream",
     "text": [
      "[Car(\"red\",\"50000\", \"toyota\"), Car(\"blue\",\"150000\", \"ford\")]\n",
      "50000\n",
      "150000\n"
     ]
    }
   ],
   "source": [
    "class Car:\n",
    "    #class attributes belongs to the class itself\n",
    "    discount = 0.7 #30% discount\n",
    "    count  = 0\n",
    "    alls = []\n",
    "    #this is a constructor/initialise. wehn we create a method within a class, they receive an instance as a 1st argument\n",
    "    def __init__(self, color: str, price: float, manufacturer: str): #set argument type\n",
    "        #run a validation of received arg\n",
    "        \n",
    "        assert price>=0, f'{price} must be a positive number'\n",
    "        \n",
    "        #assign self object, instance attributes\n",
    "        self.color = color\n",
    "        self.price = price\n",
    "        self.manufacturer = manufacturer\n",
    "        Car.count+=1\n",
    "        \n",
    "        Car.alls.append(self)\n",
    "        \n",
    "    def full_detail(self):\n",
    "        return f'This is a {self.color} {self.manufacturer} car sold at ${self.price}'\n",
    "    \n",
    "    def cal_new_price(self):\n",
    "        # self.new_increase allows us to override the class var for each instance\n",
    "        self.price = self.price * self.discount\n",
    "        \n",
    "    def __repr__(self):\n",
    "        return f'Car(\"{self.color}\",\"{self.price}\", \"{self.manufacturer}\")'\n",
    "car1 = Car('red', 50000, 'toyota')\n",
    "car2 = Car('blue', 150000, 'ford')\n",
    "\n",
    "print(Car.alls)\n",
    "\n",
    "for obj in Car.alls:\n",
    "    print(obj.price)\n",
    "#print(car1.__dict__)\n",
    "#print(Car.__dict__)"
   ]
  },
  {
   "cell_type": "code",
   "execution_count": null,
   "id": "06b11b12",
   "metadata": {},
   "outputs": [],
   "source": []
  }
 ],
 "metadata": {
  "kernelspec": {
   "display_name": "Python 3 (ipykernel)",
   "language": "python",
   "name": "python3"
  },
  "language_info": {
   "codemirror_mode": {
    "name": "ipython",
    "version": 3
   },
   "file_extension": ".py",
   "mimetype": "text/x-python",
   "name": "python",
   "nbconvert_exporter": "python",
   "pygments_lexer": "ipython3",
   "version": "3.7.7"
  },
  "toc": {
   "base_numbering": 1,
   "nav_menu": {},
   "number_sections": true,
   "sideBar": true,
   "skip_h1_title": false,
   "title_cell": "Table of Contents",
   "title_sidebar": "Contents",
   "toc_cell": false,
   "toc_position": {},
   "toc_section_display": true,
   "toc_window_display": false
  }
 },
 "nbformat": 4,
 "nbformat_minor": 5
}
